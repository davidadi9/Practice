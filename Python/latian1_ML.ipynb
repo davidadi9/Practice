{
  "cells": [
    {
      "cell_type": "markdown",
      "metadata": {
        "id": "MivL0yzpKf4P"
      },
      "source": [
        "Sources:\n",
        "\n",
        "https://www.kaggle.com/sohommajumder21/7-models-with-params-tuning-beginner-friendly with adjustment to display only Decision\n",
        "Tree\n",
        "\n",
        "https://mljar.com/blog/visualize-decision-tree/ for decision tree visualization"
      ]
    },
    {
      "cell_type": "markdown",
      "source": [
        "##Load and Preparing Dataset"
      ],
      "metadata": {
        "id": "8YMtstQNLNQp"
      }
    },
    {
      "cell_type": "code",
      "source": [
        "from google.colab import drive\n",
        "drive.mount('/content/drive')"
      ],
      "metadata": {
        "colab": {
          "base_uri": "https://localhost:8080/"
        },
        "id": "y8TT62UcKg-U",
        "outputId": "415f3a14-2b7b-4b13-baa3-efd7dfd16529"
      },
      "execution_count": 1,
      "outputs": [
        {
          "output_type": "stream",
          "name": "stdout",
          "text": [
            "Drive already mounted at /content/drive; to attempt to forcibly remount, call drive.mount(\"/content/drive\", force_remount=True).\n"
          ]
        }
      ]
    },
    {
      "cell_type": "code",
      "execution_count": 2,
      "metadata": {
        "execution": {
          "iopub.execute_input": "2021-07-14T13:51:52.459870Z",
          "iopub.status.busy": "2021-07-14T13:51:52.459433Z",
          "iopub.status.idle": "2021-07-14T13:51:52.527137Z",
          "shell.execute_reply": "2021-07-14T13:51:52.526257Z",
          "shell.execute_reply.started": "2021-07-14T13:51:52.459769Z"
        },
        "colab": {
          "base_uri": "https://localhost:8080/",
          "height": 0
        },
        "id": "otCbLT-7Kf4R",
        "outputId": "35318899-9e3a-4363-8747-b849274e675c"
      },
      "outputs": [
        {
          "output_type": "execute_result",
          "data": {
            "text/plain": [
              "         ph    Hardness        Solids  Chloramines     Sulfate  Conductivity  \\\n",
              "0       NaN  204.890455  20791.318981     7.300212  368.516441    564.308654   \n",
              "1  3.716080  129.422921  18630.057858     6.635246         NaN    592.885359   \n",
              "2  8.099124  224.236259  19909.541732     9.275884         NaN    418.606213   \n",
              "3  8.316766  214.373394  22018.417441     8.059332  356.886136    363.266516   \n",
              "4  9.092223  181.101509  17978.986339     6.546600  310.135738    398.410813   \n",
              "\n",
              "   Organic_carbon  Trihalomethanes  Turbidity  Potability  \n",
              "0       10.379783        86.990970   2.963135           0  \n",
              "1       15.180013        56.329076   4.500656           0  \n",
              "2       16.868637        66.420093   3.055934           0  \n",
              "3       18.436524       100.341674   4.628771           0  \n",
              "4       11.558279        31.997993   4.075075           0  "
            ],
            "text/html": [
              "\n",
              "  <div id=\"df-c92a26d6-6635-47ad-a385-3fd57395c93d\" class=\"colab-df-container\">\n",
              "    <div>\n",
              "<style scoped>\n",
              "    .dataframe tbody tr th:only-of-type {\n",
              "        vertical-align: middle;\n",
              "    }\n",
              "\n",
              "    .dataframe tbody tr th {\n",
              "        vertical-align: top;\n",
              "    }\n",
              "\n",
              "    .dataframe thead th {\n",
              "        text-align: right;\n",
              "    }\n",
              "</style>\n",
              "<table border=\"1\" class=\"dataframe\">\n",
              "  <thead>\n",
              "    <tr style=\"text-align: right;\">\n",
              "      <th></th>\n",
              "      <th>ph</th>\n",
              "      <th>Hardness</th>\n",
              "      <th>Solids</th>\n",
              "      <th>Chloramines</th>\n",
              "      <th>Sulfate</th>\n",
              "      <th>Conductivity</th>\n",
              "      <th>Organic_carbon</th>\n",
              "      <th>Trihalomethanes</th>\n",
              "      <th>Turbidity</th>\n",
              "      <th>Potability</th>\n",
              "    </tr>\n",
              "  </thead>\n",
              "  <tbody>\n",
              "    <tr>\n",
              "      <th>0</th>\n",
              "      <td>NaN</td>\n",
              "      <td>204.890455</td>\n",
              "      <td>20791.318981</td>\n",
              "      <td>7.300212</td>\n",
              "      <td>368.516441</td>\n",
              "      <td>564.308654</td>\n",
              "      <td>10.379783</td>\n",
              "      <td>86.990970</td>\n",
              "      <td>2.963135</td>\n",
              "      <td>0</td>\n",
              "    </tr>\n",
              "    <tr>\n",
              "      <th>1</th>\n",
              "      <td>3.716080</td>\n",
              "      <td>129.422921</td>\n",
              "      <td>18630.057858</td>\n",
              "      <td>6.635246</td>\n",
              "      <td>NaN</td>\n",
              "      <td>592.885359</td>\n",
              "      <td>15.180013</td>\n",
              "      <td>56.329076</td>\n",
              "      <td>4.500656</td>\n",
              "      <td>0</td>\n",
              "    </tr>\n",
              "    <tr>\n",
              "      <th>2</th>\n",
              "      <td>8.099124</td>\n",
              "      <td>224.236259</td>\n",
              "      <td>19909.541732</td>\n",
              "      <td>9.275884</td>\n",
              "      <td>NaN</td>\n",
              "      <td>418.606213</td>\n",
              "      <td>16.868637</td>\n",
              "      <td>66.420093</td>\n",
              "      <td>3.055934</td>\n",
              "      <td>0</td>\n",
              "    </tr>\n",
              "    <tr>\n",
              "      <th>3</th>\n",
              "      <td>8.316766</td>\n",
              "      <td>214.373394</td>\n",
              "      <td>22018.417441</td>\n",
              "      <td>8.059332</td>\n",
              "      <td>356.886136</td>\n",
              "      <td>363.266516</td>\n",
              "      <td>18.436524</td>\n",
              "      <td>100.341674</td>\n",
              "      <td>4.628771</td>\n",
              "      <td>0</td>\n",
              "    </tr>\n",
              "    <tr>\n",
              "      <th>4</th>\n",
              "      <td>9.092223</td>\n",
              "      <td>181.101509</td>\n",
              "      <td>17978.986339</td>\n",
              "      <td>6.546600</td>\n",
              "      <td>310.135738</td>\n",
              "      <td>398.410813</td>\n",
              "      <td>11.558279</td>\n",
              "      <td>31.997993</td>\n",
              "      <td>4.075075</td>\n",
              "      <td>0</td>\n",
              "    </tr>\n",
              "  </tbody>\n",
              "</table>\n",
              "</div>\n",
              "    <div class=\"colab-df-buttons\">\n",
              "\n",
              "  <div class=\"colab-df-container\">\n",
              "    <button class=\"colab-df-convert\" onclick=\"convertToInteractive('df-c92a26d6-6635-47ad-a385-3fd57395c93d')\"\n",
              "            title=\"Convert this dataframe to an interactive table.\"\n",
              "            style=\"display:none;\">\n",
              "\n",
              "  <svg xmlns=\"http://www.w3.org/2000/svg\" height=\"24px\" viewBox=\"0 -960 960 960\">\n",
              "    <path d=\"M120-120v-720h720v720H120Zm60-500h600v-160H180v160Zm220 220h160v-160H400v160Zm0 220h160v-160H400v160ZM180-400h160v-160H180v160Zm440 0h160v-160H620v160ZM180-180h160v-160H180v160Zm440 0h160v-160H620v160Z\"/>\n",
              "  </svg>\n",
              "    </button>\n",
              "\n",
              "  <style>\n",
              "    .colab-df-container {\n",
              "      display:flex;\n",
              "      gap: 12px;\n",
              "    }\n",
              "\n",
              "    .colab-df-convert {\n",
              "      background-color: #E8F0FE;\n",
              "      border: none;\n",
              "      border-radius: 50%;\n",
              "      cursor: pointer;\n",
              "      display: none;\n",
              "      fill: #1967D2;\n",
              "      height: 32px;\n",
              "      padding: 0 0 0 0;\n",
              "      width: 32px;\n",
              "    }\n",
              "\n",
              "    .colab-df-convert:hover {\n",
              "      background-color: #E2EBFA;\n",
              "      box-shadow: 0px 1px 2px rgba(60, 64, 67, 0.3), 0px 1px 3px 1px rgba(60, 64, 67, 0.15);\n",
              "      fill: #174EA6;\n",
              "    }\n",
              "\n",
              "    .colab-df-buttons div {\n",
              "      margin-bottom: 4px;\n",
              "    }\n",
              "\n",
              "    [theme=dark] .colab-df-convert {\n",
              "      background-color: #3B4455;\n",
              "      fill: #D2E3FC;\n",
              "    }\n",
              "\n",
              "    [theme=dark] .colab-df-convert:hover {\n",
              "      background-color: #434B5C;\n",
              "      box-shadow: 0px 1px 3px 1px rgba(0, 0, 0, 0.15);\n",
              "      filter: drop-shadow(0px 1px 2px rgba(0, 0, 0, 0.3));\n",
              "      fill: #FFFFFF;\n",
              "    }\n",
              "  </style>\n",
              "\n",
              "    <script>\n",
              "      const buttonEl =\n",
              "        document.querySelector('#df-c92a26d6-6635-47ad-a385-3fd57395c93d button.colab-df-convert');\n",
              "      buttonEl.style.display =\n",
              "        google.colab.kernel.accessAllowed ? 'block' : 'none';\n",
              "\n",
              "      async function convertToInteractive(key) {\n",
              "        const element = document.querySelector('#df-c92a26d6-6635-47ad-a385-3fd57395c93d');\n",
              "        const dataTable =\n",
              "          await google.colab.kernel.invokeFunction('convertToInteractive',\n",
              "                                                    [key], {});\n",
              "        if (!dataTable) return;\n",
              "\n",
              "        const docLinkHtml = 'Like what you see? Visit the ' +\n",
              "          '<a target=\"_blank\" href=https://colab.research.google.com/notebooks/data_table.ipynb>data table notebook</a>'\n",
              "          + ' to learn more about interactive tables.';\n",
              "        element.innerHTML = '';\n",
              "        dataTable['output_type'] = 'display_data';\n",
              "        await google.colab.output.renderOutput(dataTable, element);\n",
              "        const docLink = document.createElement('div');\n",
              "        docLink.innerHTML = docLinkHtml;\n",
              "        element.appendChild(docLink);\n",
              "      }\n",
              "    </script>\n",
              "  </div>\n",
              "\n",
              "\n",
              "<div id=\"df-131a860c-6671-446b-880a-3710b9b29d08\">\n",
              "  <button class=\"colab-df-quickchart\" onclick=\"quickchart('df-131a860c-6671-446b-880a-3710b9b29d08')\"\n",
              "            title=\"Suggest charts\"\n",
              "            style=\"display:none;\">\n",
              "\n",
              "<svg xmlns=\"http://www.w3.org/2000/svg\" height=\"24px\"viewBox=\"0 0 24 24\"\n",
              "     width=\"24px\">\n",
              "    <g>\n",
              "        <path d=\"M19 3H5c-1.1 0-2 .9-2 2v14c0 1.1.9 2 2 2h14c1.1 0 2-.9 2-2V5c0-1.1-.9-2-2-2zM9 17H7v-7h2v7zm4 0h-2V7h2v10zm4 0h-2v-4h2v4z\"/>\n",
              "    </g>\n",
              "</svg>\n",
              "  </button>\n",
              "\n",
              "<style>\n",
              "  .colab-df-quickchart {\n",
              "      --bg-color: #E8F0FE;\n",
              "      --fill-color: #1967D2;\n",
              "      --hover-bg-color: #E2EBFA;\n",
              "      --hover-fill-color: #174EA6;\n",
              "      --disabled-fill-color: #AAA;\n",
              "      --disabled-bg-color: #DDD;\n",
              "  }\n",
              "\n",
              "  [theme=dark] .colab-df-quickchart {\n",
              "      --bg-color: #3B4455;\n",
              "      --fill-color: #D2E3FC;\n",
              "      --hover-bg-color: #434B5C;\n",
              "      --hover-fill-color: #FFFFFF;\n",
              "      --disabled-bg-color: #3B4455;\n",
              "      --disabled-fill-color: #666;\n",
              "  }\n",
              "\n",
              "  .colab-df-quickchart {\n",
              "    background-color: var(--bg-color);\n",
              "    border: none;\n",
              "    border-radius: 50%;\n",
              "    cursor: pointer;\n",
              "    display: none;\n",
              "    fill: var(--fill-color);\n",
              "    height: 32px;\n",
              "    padding: 0;\n",
              "    width: 32px;\n",
              "  }\n",
              "\n",
              "  .colab-df-quickchart:hover {\n",
              "    background-color: var(--hover-bg-color);\n",
              "    box-shadow: 0 1px 2px rgba(60, 64, 67, 0.3), 0 1px 3px 1px rgba(60, 64, 67, 0.15);\n",
              "    fill: var(--button-hover-fill-color);\n",
              "  }\n",
              "\n",
              "  .colab-df-quickchart-complete:disabled,\n",
              "  .colab-df-quickchart-complete:disabled:hover {\n",
              "    background-color: var(--disabled-bg-color);\n",
              "    fill: var(--disabled-fill-color);\n",
              "    box-shadow: none;\n",
              "  }\n",
              "\n",
              "  .colab-df-spinner {\n",
              "    border: 2px solid var(--fill-color);\n",
              "    border-color: transparent;\n",
              "    border-bottom-color: var(--fill-color);\n",
              "    animation:\n",
              "      spin 1s steps(1) infinite;\n",
              "  }\n",
              "\n",
              "  @keyframes spin {\n",
              "    0% {\n",
              "      border-color: transparent;\n",
              "      border-bottom-color: var(--fill-color);\n",
              "      border-left-color: var(--fill-color);\n",
              "    }\n",
              "    20% {\n",
              "      border-color: transparent;\n",
              "      border-left-color: var(--fill-color);\n",
              "      border-top-color: var(--fill-color);\n",
              "    }\n",
              "    30% {\n",
              "      border-color: transparent;\n",
              "      border-left-color: var(--fill-color);\n",
              "      border-top-color: var(--fill-color);\n",
              "      border-right-color: var(--fill-color);\n",
              "    }\n",
              "    40% {\n",
              "      border-color: transparent;\n",
              "      border-right-color: var(--fill-color);\n",
              "      border-top-color: var(--fill-color);\n",
              "    }\n",
              "    60% {\n",
              "      border-color: transparent;\n",
              "      border-right-color: var(--fill-color);\n",
              "    }\n",
              "    80% {\n",
              "      border-color: transparent;\n",
              "      border-right-color: var(--fill-color);\n",
              "      border-bottom-color: var(--fill-color);\n",
              "    }\n",
              "    90% {\n",
              "      border-color: transparent;\n",
              "      border-bottom-color: var(--fill-color);\n",
              "    }\n",
              "  }\n",
              "</style>\n",
              "\n",
              "  <script>\n",
              "    async function quickchart(key) {\n",
              "      const quickchartButtonEl =\n",
              "        document.querySelector('#' + key + ' button');\n",
              "      quickchartButtonEl.disabled = true;  // To prevent multiple clicks.\n",
              "      quickchartButtonEl.classList.add('colab-df-spinner');\n",
              "      try {\n",
              "        const charts = await google.colab.kernel.invokeFunction(\n",
              "            'suggestCharts', [key], {});\n",
              "      } catch (error) {\n",
              "        console.error('Error during call to suggestCharts:', error);\n",
              "      }\n",
              "      quickchartButtonEl.classList.remove('colab-df-spinner');\n",
              "      quickchartButtonEl.classList.add('colab-df-quickchart-complete');\n",
              "    }\n",
              "    (() => {\n",
              "      let quickchartButtonEl =\n",
              "        document.querySelector('#df-131a860c-6671-446b-880a-3710b9b29d08 button');\n",
              "      quickchartButtonEl.style.display =\n",
              "        google.colab.kernel.accessAllowed ? 'block' : 'none';\n",
              "    })();\n",
              "  </script>\n",
              "</div>\n",
              "    </div>\n",
              "  </div>\n"
            ]
          },
          "metadata": {},
          "execution_count": 2
        }
      ],
      "source": [
        "import pandas as pd\n",
        "import numpy as np\n",
        "df = pd.read_csv(\"drive/MyDrive/dataset/water_potability.csv\")\n",
        "df.head() #print 5 data teratas untuk pengecekan apakah dataset telah diload ke code"
      ]
    },
    {
      "cell_type": "code",
      "execution_count": 3,
      "metadata": {
        "execution": {
          "iopub.execute_input": "2021-07-14T13:51:52.528924Z",
          "iopub.status.busy": "2021-07-14T13:51:52.528616Z",
          "iopub.status.idle": "2021-07-14T13:51:52.534668Z",
          "shell.execute_reply": "2021-07-14T13:51:52.533794Z",
          "shell.execute_reply.started": "2021-07-14T13:51:52.528896Z"
        },
        "colab": {
          "base_uri": "https://localhost:8080/"
        },
        "id": "-Pt9CGruKf4S",
        "outputId": "ab62d6cf-864e-4bfe-a40c-09b2bd3dd29f"
      },
      "outputs": [
        {
          "output_type": "execute_result",
          "data": {
            "text/plain": [
              "(3276, 10)"
            ]
          },
          "metadata": {},
          "execution_count": 3
        }
      ],
      "source": [
        "#shape of the data\n",
        "df.shape"
      ]
    },
    {
      "cell_type": "markdown",
      "metadata": {
        "id": "54rYGB2_Kf4S"
      },
      "source": [
        "There are 3276 rows and 10 columns"
      ]
    },
    {
      "cell_type": "code",
      "execution_count": 4,
      "metadata": {
        "execution": {
          "iopub.execute_input": "2021-07-14T13:51:52.536306Z",
          "iopub.status.busy": "2021-07-14T13:51:52.536043Z",
          "iopub.status.idle": "2021-07-14T13:51:52.548489Z",
          "shell.execute_reply": "2021-07-14T13:51:52.547443Z",
          "shell.execute_reply.started": "2021-07-14T13:51:52.536273Z"
        },
        "colab": {
          "base_uri": "https://localhost:8080/"
        },
        "id": "YKLijpwwKf4T",
        "outputId": "3368d0c9-6185-4a20-f27b-c8c49c11b3f7"
      },
      "outputs": [
        {
          "output_type": "execute_result",
          "data": {
            "text/plain": [
              "ph                 491\n",
              "Hardness             0\n",
              "Solids               0\n",
              "Chloramines          0\n",
              "Sulfate            781\n",
              "Conductivity         0\n",
              "Organic_carbon       0\n",
              "Trihalomethanes    162\n",
              "Turbidity            0\n",
              "Potability           0\n",
              "dtype: int64"
            ]
          },
          "metadata": {},
          "execution_count": 4
        }
      ],
      "source": [
        "#Check for missing values\n",
        "df.isnull().sum()"
      ]
    },
    {
      "cell_type": "code",
      "execution_count": 5,
      "metadata": {
        "execution": {
          "iopub.execute_input": "2021-07-14T13:51:52.550163Z",
          "iopub.status.busy": "2021-07-14T13:51:52.549866Z",
          "iopub.status.idle": "2021-07-14T13:51:52.576936Z",
          "shell.execute_reply": "2021-07-14T13:51:52.575932Z",
          "shell.execute_reply.started": "2021-07-14T13:51:52.550128Z"
        },
        "colab": {
          "base_uri": "https://localhost:8080/"
        },
        "id": "jYaGYWeNKf4T",
        "outputId": "8cc0d063-683d-4d85-cecb-00119d987104"
      },
      "outputs": [
        {
          "output_type": "stream",
          "name": "stderr",
          "text": [
            "<ipython-input-5-aad9df82bded>:7: SettingWithCopyWarning: \n",
            "A value is trying to be set on a copy of a slice from a DataFrame.\n",
            "Try using .loc[row_indexer,col_indexer] = value instead\n",
            "\n",
            "See the caveats in the documentation: https://pandas.pydata.org/pandas-docs/stable/user_guide/indexing.html#returning-a-view-versus-a-copy\n",
            "  zero.fillna(value=zero_values,inplace=True)\n",
            "<ipython-input-5-aad9df82bded>:10: SettingWithCopyWarning: \n",
            "A value is trying to be set on a copy of a slice from a DataFrame.\n",
            "Try using .loc[row_indexer,col_indexer] = value instead\n",
            "\n",
            "See the caveats in the documentation: https://pandas.pydata.org/pandas-docs/stable/user_guide/indexing.html#returning-a-view-versus-a-copy\n",
            "  one.fillna(value=one_values,inplace=True)\n"
          ]
        }
      ],
      "source": [
        "#Fill missing values\n",
        "#data kosong diisi agar data yang diproses model lebih banyak. Dengan data yang lebih banyak, model dapat menghasilkan akurasi yang lebih tinggi\n",
        "zero  = df[df['Potability']==0]  #class air tidak dapat diminum\n",
        "one = df[df['Potability']==1]    #class air bisa diminum\n",
        "#mengisi atribut class 0\n",
        "zero_values = {\"ph\": np.random.uniform(low=3.5,high=6.0), \"Sulfate\": np.random.uniform(low=500.0,high=850.0), \"Trihalomethanes\": np.random.uniform(low=80.2,high=100.1)}\n",
        "zero.fillna(value=zero_values,inplace=True)\n",
        "#mengisi atribut class 1\n",
        "one_values = {\"ph\": np.random.uniform(low=6.5,high=8.5), \"Sulfate\": np.random.uniform(low=3.0,high=30.1), \"Trihalomethanes\": np.random.uniform(low=0.0,high=80.1)}\n",
        "one.fillna(value=one_values,inplace=True)"
      ]
    },
    {
      "cell_type": "code",
      "execution_count": 6,
      "metadata": {
        "execution": {
          "iopub.execute_input": "2021-07-14T13:51:52.580421Z",
          "iopub.status.busy": "2021-07-14T13:51:52.579986Z",
          "iopub.status.idle": "2021-07-14T13:51:52.592241Z",
          "shell.execute_reply": "2021-07-14T13:51:52.591387Z",
          "shell.execute_reply.started": "2021-07-14T13:51:52.580374Z"
        },
        "colab": {
          "base_uri": "https://localhost:8080/"
        },
        "id": "CKBg0U-3Kf4T",
        "outputId": "8ead905a-65f5-4cd2-9c27-0532d19f4982"
      },
      "outputs": [
        {
          "output_type": "execute_result",
          "data": {
            "text/plain": [
              "0    1998\n",
              "1    1278\n",
              "Name: Potability, dtype: int64"
            ]
          },
          "metadata": {},
          "execution_count": 6
        }
      ],
      "source": [
        "df.Potability.value_counts()"
      ]
    },
    {
      "cell_type": "code",
      "execution_count": 7,
      "metadata": {
        "execution": {
          "iopub.execute_input": "2021-07-14T13:51:52.594241Z",
          "iopub.status.busy": "2021-07-14T13:51:52.593671Z",
          "iopub.status.idle": "2021-07-14T13:51:53.502941Z",
          "shell.execute_reply": "2021-07-14T13:51:53.502093Z",
          "shell.execute_reply.started": "2021-07-14T13:51:52.594197Z"
        },
        "colab": {
          "base_uri": "https://localhost:8080/",
          "height": 0
        },
        "id": "7iIuAKC4Kf4U",
        "outputId": "2b37295e-1c78-4b78-e7fa-61d7e98e4fdb"
      },
      "outputs": [
        {
          "output_type": "execute_result",
          "data": {
            "text/plain": [
              "<Axes: ylabel='Potability'>"
            ]
          },
          "metadata": {},
          "execution_count": 7
        },
        {
          "output_type": "display_data",
          "data": {
            "text/plain": [
              "<Figure size 640x480 with 1 Axes>"
            ],
            "image/png": "[encoded data removed]"
          },
          "metadata": {}
        }
      ],
      "source": [
        "#Plots\n",
        "import matplotlib.pyplot as plt\n",
        "import seaborn as sns\n",
        "\n",
        "df.Potability.value_counts().plot(kind ='pie')"
      ]
    },
    {
      "cell_type": "markdown",
      "metadata": {
        "id": "PiE9T3C9Kf4U"
      },
      "source": [
        "Dataset masih belum balance, dimana hasil klasifikasi 0 > 1 (1998>1278), maka dataset akan dibuat balance dengan melakukan upsampling."
      ]
    },
    {
      "cell_type": "code",
      "execution_count": 8,
      "metadata": {
        "execution": {
          "iopub.execute_input": "2021-07-14T13:51:53.505303Z",
          "iopub.status.busy": "2021-07-14T13:51:53.504887Z",
          "iopub.status.idle": "2021-07-14T13:51:53.616096Z",
          "shell.execute_reply": "2021-07-14T13:51:53.615082Z",
          "shell.execute_reply.started": "2021-07-14T13:51:53.505258Z"
        },
        "id": "Wvbl9TZ9Kf4U"
      },
      "outputs": [],
      "source": [
        "from sklearn.utils import resample\n",
        "df_minority_upsampled = resample(one, replace = True, n_samples = 1998, random_state=42)\n",
        "#concatenate\n",
        "df = pd.concat([zero, df_minority_upsampled])\n",
        "\n",
        "from sklearn.utils import shuffle #untuk shuffle dataset\n",
        "df = shuffle(df) # shuffling so that there is particular sequence"
      ]
    },
    {
      "cell_type": "code",
      "execution_count": 9,
      "metadata": {
        "colab": {
          "base_uri": "https://localhost:8080/"
        },
        "id": "Gg9qK9eiKf4U",
        "outputId": "2bba955f-0deb-4e9f-d93d-2d1671749230"
      },
      "outputs": [
        {
          "output_type": "execute_result",
          "data": {
            "text/plain": [
              "0    1998\n",
              "1    1998\n",
              "Name: Potability, dtype: int64"
            ]
          },
          "metadata": {},
          "execution_count": 9
        }
      ],
      "source": [
        "df.Potability.value_counts()"
      ]
    },
    {
      "cell_type": "code",
      "execution_count": 10,
      "metadata": {
        "execution": {
          "iopub.execute_input": "2021-07-14T13:51:53.618442Z",
          "iopub.status.busy": "2021-07-14T13:51:53.618036Z",
          "iopub.status.idle": "2021-07-14T13:51:53.691526Z",
          "shell.execute_reply": "2021-07-14T13:51:53.690611Z",
          "shell.execute_reply.started": "2021-07-14T13:51:53.618402Z"
        },
        "colab": {
          "base_uri": "https://localhost:8080/",
          "height": 0
        },
        "id": "NvptbCB-Kf4V",
        "outputId": "099f1995-3eb9-414b-bb2e-2fbc02834bde"
      },
      "outputs": [
        {
          "output_type": "execute_result",
          "data": {
            "text/plain": [
              "<Axes: ylabel='Potability'>"
            ]
          },
          "metadata": {},
          "execution_count": 10
        },
        {
          "output_type": "display_data",
          "data": {
            "text/plain": [
              "<Figure size 640x480 with 1 Axes>"
            ],
            "image/png": "[encoded data removed]"
          },
          "metadata": {}
        }
      ],
      "source": [
        "df.Potability.value_counts().plot(kind ='pie')"
      ]
    },
    {
      "cell_type": "markdown",
      "metadata": {
        "id": "Z7d63BNCKf4V"
      },
      "source": [
        "Sekarang, dataset sudah balance."
      ]
    },
    {
      "cell_type": "code",
      "execution_count": 11,
      "metadata": {
        "execution": {
          "iopub.execute_input": "2021-07-14T13:51:55.069573Z",
          "iopub.status.busy": "2021-07-14T13:51:55.069213Z",
          "iopub.status.idle": "2021-07-14T13:51:55.079830Z",
          "shell.execute_reply": "2021-07-14T13:51:55.078757Z",
          "shell.execute_reply.started": "2021-07-14T13:51:55.069539Z"
        },
        "id": "qBYoKXOTKf4V"
      },
      "outputs": [],
      "source": [
        "#df.corr().abs()['Potability'].sort_values(ascending = False)"
      ]
    },
    {
      "cell_type": "markdown",
      "source": [
        "##Preprocess Dataset"
      ],
      "metadata": {
        "id": "2zSM5IyLLHJu"
      }
    },
    {
      "cell_type": "code",
      "execution_count": 12,
      "metadata": {
        "execution": {
          "iopub.execute_input": "2021-07-14T13:51:55.081766Z",
          "iopub.status.busy": "2021-07-14T13:51:55.081294Z",
          "iopub.status.idle": "2021-07-14T13:51:55.087509Z",
          "shell.execute_reply": "2021-07-14T13:51:55.086351Z",
          "shell.execute_reply.started": "2021-07-14T13:51:55.081730Z"
        },
        "id": "nhVfbuJrKf4W"
      },
      "outputs": [],
      "source": [
        "X = df.drop(['Potability'], axis = 1)\n",
        "y = df['Potability']"
      ]
    },
    {
      "cell_type": "code",
      "execution_count": 13,
      "metadata": {
        "execution": {
          "iopub.execute_input": "2021-07-14T13:51:55.089198Z",
          "iopub.status.busy": "2021-07-14T13:51:55.088871Z",
          "iopub.status.idle": "2021-07-14T13:51:55.133264Z",
          "shell.execute_reply": "2021-07-14T13:51:55.132527Z",
          "shell.execute_reply.started": "2021-07-14T13:51:55.089168Z"
        },
        "id": "NxwtukynKf4W"
      },
      "outputs": [],
      "source": [
        "from sklearn.preprocessing import StandardScaler\n",
        "sc = StandardScaler()\n",
        "features= X.columns\n",
        "X[features] = sc.fit_transform(X[features])"
      ]
    },
    {
      "cell_type": "code",
      "execution_count": 14,
      "metadata": {
        "execution": {
          "iopub.execute_input": "2021-07-14T13:51:55.480615Z",
          "iopub.status.busy": "2021-07-14T13:51:55.480076Z",
          "iopub.status.idle": "2021-07-14T13:51:55.488330Z",
          "shell.execute_reply": "2021-07-14T13:51:55.487149Z",
          "shell.execute_reply.started": "2021-07-14T13:51:55.480575Z"
        },
        "id": "M8uhZ7-rKf4W"
      },
      "outputs": [],
      "source": [
        "from sklearn.model_selection import train_test_split\n",
        "X_train, X_test, y_train, y_test = train_test_split(X,y, test_size = 0.2, random_state=42) #data yang di-train 80%, 20% data testing"
      ]
    },
    {
      "cell_type": "markdown",
      "source": [
        "###Load Machine Learning Model"
      ],
      "metadata": {
        "id": "t0UF-h6OMJTk"
      }
    },
    {
      "cell_type": "code",
      "execution_count": 15,
      "metadata": {
        "execution": {
          "iopub.execute_input": "2021-07-14T13:51:55.134912Z",
          "iopub.status.busy": "2021-07-14T13:51:55.134369Z",
          "iopub.status.idle": "2021-07-14T13:51:55.478940Z",
          "shell.execute_reply": "2021-07-14T13:51:55.478168Z",
          "shell.execute_reply.started": "2021-07-14T13:51:55.134872Z"
        },
        "id": "h4B0R2B8Kf4W"
      },
      "outputs": [],
      "source": [
        "from sklearn.tree import DecisionTreeClassifier\n",
        "from sklearn.model_selection import RandomizedSearchCV, GridSearchCV"
      ]
    },
    {
      "cell_type": "markdown",
      "source": [
        "###Hyperparameter Tuning"
      ],
      "metadata": {
        "id": "lrn4MWkyMzob"
      }
    },
    {
      "cell_type": "code",
      "source": [
        "dt = DecisionTreeClassifier()\n",
        "para_dt = {'criterion':['gini','entropy'],'max_depth':np.arange(1, 50), 'min_samples_leaf':[1,2,4,5,10,20,30,40,80,100]}\n",
        "grid_dt = GridSearchCV(dt, param_grid=para_dt, cv=5) #grid search decision tree for 5 fold cv\n",
        "#\"gini\" for the Gini impurity and “entropy” for the information gain.\n",
        "#min_samples_leaf: The minimum number of samples required to be at a leaf node, have the effect of smoothing the model"
      ],
      "metadata": {
        "id": "E4wdGzNSMx7l"
      },
      "execution_count": 16,
      "outputs": []
    },
    {
      "cell_type": "code",
      "source": [
        "grid_dt.fit(X_train, y_train)\n",
        "print(\"Best parameters for Decision Tree:\", grid_dt.best_params_)"
      ],
      "metadata": {
        "colab": {
          "base_uri": "https://localhost:8080/"
        },
        "id": "ZAw59K1hM4wM",
        "outputId": "cd98f972-3630-4b76-d6b8-c3e8e0e6f3d8"
      },
      "execution_count": 17,
      "outputs": [
        {
          "output_type": "stream",
          "name": "stdout",
          "text": [
            "Best parameters for Decision Tree: {'criterion': 'entropy', 'max_depth': 30, 'min_samples_leaf': 1}\n"
          ]
        }
      ]
    },
    {
      "cell_type": "markdown",
      "source": [
        "###Training the model"
      ],
      "metadata": {
        "id": "wErjDBYxM5Ut"
      }
    },
    {
      "cell_type": "code",
      "execution_count": 42,
      "metadata": {
        "execution": {
          "iopub.execute_input": "2021-07-14T13:58:30.905049Z",
          "iopub.status.busy": "2021-07-14T13:58:30.904775Z",
          "iopub.status.idle": "2021-07-14T13:58:33.760808Z",
          "shell.execute_reply": "2021-07-14T13:58:33.759985Z",
          "shell.execute_reply.started": "2021-07-14T13:58:30.905021Z"
        },
        "id": "nLcQhVLMKf4W"
      },
      "outputs": [],
      "source": [
        "dt = DecisionTreeClassifier(criterion='gini',max_depth=36, min_samples_leaf=1,random_state=42) #max_depth dari tree diset 48 sudah paling konsisten akurasinya\n",
        "#jangan lupa coba model ML lain"
      ]
    },
    {
      "cell_type": "code",
      "execution_count": 43,
      "metadata": {
        "execution": {
          "iopub.execute_input": "2021-07-14T13:58:33.762192Z",
          "iopub.status.busy": "2021-07-14T13:58:33.761932Z",
          "iopub.status.idle": "2021-07-14T13:58:33.765984Z",
          "shell.execute_reply": "2021-07-14T13:58:33.765237Z",
          "shell.execute_reply.started": "2021-07-14T13:58:33.762158Z"
        },
        "id": "ugaloN1eKf4W"
      },
      "outputs": [],
      "source": [
        "classifiers = [('Decision Tree', dt)]"
      ]
    },
    {
      "cell_type": "code",
      "execution_count": 44,
      "metadata": {
        "execution": {
          "iopub.execute_input": "2021-07-14T13:58:33.767271Z",
          "iopub.status.busy": "2021-07-14T13:58:33.766868Z",
          "iopub.status.idle": "2021-07-14T13:58:40.756503Z",
          "shell.execute_reply": "2021-07-14T13:58:40.755550Z",
          "shell.execute_reply.started": "2021-07-14T13:58:33.767212Z"
        },
        "colab": {
          "base_uri": "https://localhost:8080/"
        },
        "id": "hqKdHODZKf4W",
        "outputId": "4e59974d-e0c7-4c06-aece-f133c3d2ff6e"
      },
      "outputs": [
        {
          "output_type": "stream",
          "name": "stdout",
          "text": [
            "Decision Tree Accuracy : 0.89\n"
          ]
        }
      ],
      "source": [
        "from sklearn.metrics import accuracy_score\n",
        "\n",
        "for classifier_name, classifier in classifiers:\n",
        "\n",
        "    # Fit clf to the training set\n",
        "    classifier.fit(X_train, y_train)\n",
        "\n",
        "    # Predict y_pred\n",
        "    y_pred = classifier.predict(X_test)\n",
        "    accuracy = accuracy_score(y_test,y_pred)\n",
        "\n",
        "    # Evaluate clf's accuracy on the test set\n",
        "    print('{:s} Accuracy : {:.2f}'.format(classifier_name, accuracy))"
      ]
    },
    {
      "cell_type": "markdown",
      "metadata": {
        "id": "x8N-m5npKf4X"
      },
      "source": [
        "Accuracy bekisar antara 85-88%"
      ]
    },
    {
      "cell_type": "markdown",
      "metadata": {
        "id": "x33RKLrSKf4X"
      },
      "source": [
        "## Result in text"
      ]
    },
    {
      "cell_type": "code",
      "execution_count": 45,
      "metadata": {
        "execution": {
          "iopub.execute_input": "2021-07-14T13:58:40.757833Z",
          "iopub.status.busy": "2021-07-14T13:58:40.757572Z",
          "iopub.status.idle": "2021-07-14T13:58:40.786600Z",
          "shell.execute_reply": "2021-07-14T13:58:40.785830Z",
          "shell.execute_reply.started": "2021-07-14T13:58:40.757808Z"
        },
        "colab": {
          "base_uri": "https://localhost:8080/"
        },
        "id": "6Ai85w_YKf4X",
        "outputId": "4fb7a318-2a93-48bf-a3c3-e26220c9b1ed"
      },
      "outputs": [
        {
          "output_type": "stream",
          "name": "stdout",
          "text": [
            "              precision    recall  f1-score   support\n",
            "\n",
            "           0       0.92      0.85      0.88       404\n",
            "           1       0.86      0.92      0.89       396\n",
            "\n",
            "    accuracy                           0.89       800\n",
            "   macro avg       0.89      0.89      0.89       800\n",
            "weighted avg       0.89      0.89      0.89       800\n",
            "\n"
          ]
        }
      ],
      "source": [
        "from sklearn.metrics import classification_report\n",
        "\n",
        "y_pred_rf= dt.predict(X_test)\n",
        "print(classification_report(y_test, y_pred_rf))"
      ]
    },
    {
      "cell_type": "markdown",
      "metadata": {
        "id": "AfZGRXirKf4X"
      },
      "source": [
        "### Tree in text format and in plot"
      ]
    },
    {
      "cell_type": "code",
      "execution_count": 22,
      "metadata": {
        "id": "uNbiOHtQKf4X"
      },
      "outputs": [],
      "source": [
        "#from sklearn import tree\n",
        "#text_representation = tree.export_text(dt)\n",
        "#print(text_representation)"
      ]
    },
    {
      "cell_type": "code",
      "execution_count": 23,
      "metadata": {
        "id": "oFSS2jLhKf4X"
      },
      "outputs": [],
      "source": [
        "# fig = plt.figure(figsize=(500,50))\n",
        "# _ = tree.plot_tree(dt, feature_names=list(df.columns), filled=True, fontsize=6)\n",
        "# plt.savefig('DecisionTree', dpi=100)"
      ]
    }
  ],
  "metadata": {
    "interpreter": {
      "hash": "403b94694058aad830f385b34526fe7b4ee25f4c80c7402da15e23672e361e8a"
    },
    "kernelspec": {
      "display_name": "Python 3.8.10 64-bit ('tf': conda)",
      "name": "python3"
    },
    "language_info": {
      "codemirror_mode": {
        "name": "ipython",
        "version": 3
      },
      "file_extension": ".py",
      "mimetype": "text/x-python",
      "name": "python",
      "nbconvert_exporter": "python",
      "pygments_lexer": "ipython3",
      "version": "3.9.7"
    },
    "colab": {
      "provenance": [],
      "collapsed_sections": [
        "8YMtstQNLNQp",
        "AfZGRXirKf4X"
      ]
    }
  },
  "nbformat": 4,
  "nbformat_minor": 0
}